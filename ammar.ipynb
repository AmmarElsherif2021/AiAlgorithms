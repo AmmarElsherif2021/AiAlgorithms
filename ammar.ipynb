{
  "nbformat": 4,
  "nbformat_minor": 0,
  "metadata": {
    "colab": {
      "provenance": [],
      "authorship_tag": "ABX9TyNjHzqXqmMazIQubHPBUqIV",
      "include_colab_link": true
    },
    "kernelspec": {
      "name": "python3",
      "display_name": "Python 3"
    },
    "language_info": {
      "name": "python"
    }
  },
  "cells": [
    {
      "cell_type": "markdown",
      "metadata": {
        "id": "view-in-github",
        "colab_type": "text"
      },
      "source": [
        "<a href=\"https://colab.research.google.com/github/AmmarElsherif2021/AiAlgorithms/blob/master/ammar.ipynb\" target=\"_parent\"><img src=\"https://colab.research.google.com/assets/colab-badge.svg\" alt=\"Open In Colab\"/></a>"
      ]
    },
    {
      "cell_type": "code",
      "execution_count": 8,
      "metadata": {
        "colab": {
          "base_uri": "https://localhost:8080/"
        },
        "id": "aUa4ioTky816",
        "outputId": "4b01933c-2c9c-422f-8ce0-7cc0c7d1559e"
      },
      "outputs": [
        {
          "output_type": "stream",
          "name": "stdout",
          "text": [
            "scalar empty(1) tensor([7.4336e-35])\n",
            "vector empty(3) tensor([2.5081e-37, 0.0000e+00, 7.8992e-35])\n",
            "matrix empty(2,3)  tensor([[7.9060e-35, 0.0000e+00, 7.4467e-35],\n",
            "        [0.0000e+00, 7.2708e+31, 5.0778e+31]])\n",
            "tensor empty(2, 2, 3) tensor([[[ 7.3758e-35,  0.0000e+00,  7.4336e-35],\n",
            "         [ 0.0000e+00, -1.4823e+33,  4.5771e-41]],\n",
            "\n",
            "        [[-1.7191e+33,  4.5771e-41,  7.9091e-04],\n",
            "         [ 4.5771e-41, -1.4823e+33,  4.5771e-41]]])\n",
            "rand(5,3): tensor([[0.5853, 0.8451, 0.2231],\n",
            "        [0.5013, 0.4004, 0.7907],\n",
            "        [0.2999, 0.8515, 0.8323],\n",
            "        [0.0850, 0.8675, 0.9306],\n",
            "        [0.4221, 0.4992, 0.8197]])\n",
            "zeros(5,3): tensor([[0., 0., 0.],\n",
            "        [0., 0., 0.],\n",
            "        [0., 0., 0.],\n",
            "        [0., 0., 0.],\n",
            "        [0., 0., 0.]])\n"
          ]
        }
      ],
      "source": [
        "import torch\n",
        "x=torch.empty(1)#scalar\n",
        "print('scalar empty(1)',x)\n",
        "\n",
        "x=torch.empty(3)#vector\n",
        "print('vector empty(3)',x)\n",
        "\n",
        "x=torch.empty(2,3)#matrix\n",
        "print('matrix empty(2,3) ',x)\n",
        "\n",
        "x = torch.empty(2, 2, 3) # tensor, 3 dimensions\n",
        "print('tensor empty(2, 2, 3)',x)\n",
        "\n",
        "# torch.rand(size): random numbers [0, 1]\n",
        "x = torch.rand(5, 3)\n",
        "print(\"rand(5,3):\", x)\n",
        "\n",
        "#in zeroes\n",
        "x = torch.zeros(5, 3)\n",
        "print(\"zeros(5,3):\", x)"
      ]
    },
    {
      "cell_type": "code",
      "source": [
        "# check size\n",
        "print(\"size\", x.size())  # x.size(0)\n",
        "print(\"shape\", x.shape)  # x.shape[0]"
      ],
      "metadata": {
        "colab": {
          "base_uri": "https://localhost:8080/"
        },
        "id": "Y4Y1qDIB3GS9",
        "outputId": "a66f74ae-3c9d-4991-f3b7-0847fb6c8bdf"
      },
      "execution_count": 9,
      "outputs": [
        {
          "output_type": "stream",
          "name": "stdout",
          "text": [
            "size torch.Size([5, 3])\n",
            "shape torch.Size([5, 3])\n"
          ]
        }
      ]
    },
    {
      "cell_type": "code",
      "source": [
        "# check data type\n",
        "print(x.dtype)\n",
        "# specify types, float32 default\n",
        "x = torch.zeros(5, 3, dtype=torch.float16)\n",
        "print(x)\n",
        "\n",
        "# check type\n",
        "print(x.dtype)"
      ],
      "metadata": {
        "colab": {
          "base_uri": "https://localhost:8080/"
        },
        "id": "9aZ7YAS_40B6",
        "outputId": "bfa288a2-70e7-49e9-ed17-b866ae6fec8e"
      },
      "execution_count": 11,
      "outputs": [
        {
          "output_type": "stream",
          "name": "stdout",
          "text": [
            "torch.float32\n",
            "tensor([[0., 0., 0.],\n",
            "        [0., 0., 0.],\n",
            "        [0., 0., 0.],\n",
            "        [0., 0., 0.],\n",
            "        [0., 0., 0.]], dtype=torch.float16)\n",
            "torch.float16\n"
          ]
        }
      ]
    },
    {
      "cell_type": "markdown",
      "source": [
        "## Construct from data"
      ],
      "metadata": {
        "id": "JfLOzTNr9vJD"
      }
    },
    {
      "cell_type": "code",
      "source": [
        "# construct from data\n",
        "x = torch.tensor([5.5, 3],requires_grad=True)\n",
        "print(x, x.dtype)\n"
      ],
      "metadata": {
        "colab": {
          "base_uri": "https://localhost:8080/"
        },
        "id": "alUPVUj85Drs",
        "outputId": "64967d93-ea51-4121-f978-7b1169026103"
      },
      "execution_count": 12,
      "outputs": [
        {
          "output_type": "stream",
          "name": "stdout",
          "text": [
            "tensor([5.5000, 3.0000], requires_grad=True) torch.float32\n"
          ]
        }
      ]
    },
    {
      "cell_type": "code",
      "source": [],
      "metadata": {
        "id": "6x8NKhqB-FbB"
      },
      "execution_count": null,
      "outputs": []
    },
    {
      "cell_type": "code",
      "source": [
        "# Operations\n",
        "x = torch.ones(2, 2)\n",
        "y = torch.rand(2, 2)\n",
        "\n",
        "# elementwise addition\n",
        "z = x + y\n",
        "# torch.add(x,y)\n",
        "\n",
        "# in place addition, everythin with a trailing underscore is an inplace operation\n",
        "# i.e. it will modify the variable\n",
        "z.add_(x)\n",
        "\n",
        "print(x)\n",
        "print(y)\n",
        "print(z)"
      ],
      "metadata": {
        "id": "3pjK4YL6ES9B",
        "colab": {
          "base_uri": "https://localhost:8080/"
        },
        "outputId": "fa2593cf-8cf2-4466-fe12-fb8c4d2cb6b5"
      },
      "execution_count": 14,
      "outputs": [
        {
          "output_type": "stream",
          "name": "stdout",
          "text": [
            "tensor([[1., 1.],\n",
            "        [1., 1.]])\n",
            "tensor([[0.1602, 0.8184],\n",
            "        [0.0166, 0.2027]])\n",
            "tensor([[2.1602, 2.8184],\n",
            "        [2.0166, 2.2027]])\n"
          ]
        }
      ]
    },
    {
      "cell_type": "code",
      "source": [
        "# subtraction\n",
        "z = x - y\n",
        "z = torch.sub(x, y)\n",
        "\n",
        "# multiplication\n",
        "z = x * y\n",
        "z = torch.mul(x,y)\n",
        "\n",
        "# division\n",
        "z = x / y\n",
        "z = torch.div(x,y)\n",
        "\n",
        "print('z ',z)"
      ],
      "metadata": {
        "colab": {
          "base_uri": "https://localhost:8080/"
        },
        "id": "BkA1wyNs-3_B",
        "outputId": "490d7fd3-cba0-4b02-e366-47786f4f3c88"
      },
      "execution_count": 16,
      "outputs": [
        {
          "output_type": "stream",
          "name": "stdout",
          "text": [
            "z  tensor([[ 6.2421,  1.2219],\n",
            "        [60.4127,  4.9332]])\n"
          ]
        }
      ]
    },
    {
      "cell_type": "code",
      "source": [
        "# Slicing\n",
        "x = torch.rand(5,3)\n",
        "print(x)\n",
        "print(\"x[:, 0]\", x[:, 0]) # all rows, column 0\n",
        "print(\"x[1, :]\", x[1, :]) # row 1, all columns\n",
        "print(\"x[1, 1]\", x[1,1]) # element at 1, 1\n",
        "\n",
        "# Get the actual value if only 1 element in your tensor\n",
        "print(\"x[1,1].item()\", x[1,1].item())"
      ],
      "metadata": {
        "colab": {
          "base_uri": "https://localhost:8080/"
        },
        "id": "hN8zr50a_IDR",
        "outputId": "326f432d-f376-459b-a957-c26ebda59386"
      },
      "execution_count": 17,
      "outputs": [
        {
          "output_type": "stream",
          "name": "stdout",
          "text": [
            "tensor([[0.4718, 0.7415, 0.1514],\n",
            "        [0.4679, 0.1034, 0.7082],\n",
            "        [0.5869, 0.3537, 0.2482],\n",
            "        [0.7702, 0.0092, 0.2440],\n",
            "        [0.6532, 0.8861, 0.4919]])\n",
            "x[:, 0] tensor([0.4718, 0.4679, 0.5869, 0.7702, 0.6532])\n",
            "x[1, :] tensor([0.4679, 0.1034, 0.7082])\n",
            "x[1, 1] tensor(0.1034)\n",
            "x[1,1].item() 0.10342156887054443\n"
          ]
        }
      ]
    }
  ]
}